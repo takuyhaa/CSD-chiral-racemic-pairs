{
 "cells": [
  {
   "cell_type": "code",
   "execution_count": 1,
   "id": "7035cfe2-a225-49e1-8604-cedb0730ee71",
   "metadata": {
    "tags": []
   },
   "outputs": [
    {
     "ename": "FileNotFoundError",
     "evalue": "[Errno 2] No such file or directory: 'your_energy_distance_data_file.txt'",
     "output_type": "error",
     "traceback": [
      "\u001b[1;31m---------------------------------------------------------------------------\u001b[0m",
      "\u001b[1;31mFileNotFoundError\u001b[0m                         Traceback (most recent call last)",
      "\u001b[1;32m~\\AppData\\Local\\Temp\\ipykernel_19052\\605142020.py\u001b[0m in \u001b[0;36m<module>\u001b[1;34m\u001b[0m\n\u001b[0;32m     18\u001b[0m \u001b[1;31m# Read energy and distance data\u001b[0m\u001b[1;33m\u001b[0m\u001b[1;33m\u001b[0m\u001b[0m\n\u001b[0;32m     19\u001b[0m \u001b[0mfile_path\u001b[0m \u001b[1;33m=\u001b[0m \u001b[1;34m'your_energy_distance_data_file.txt'\u001b[0m  \u001b[1;31m# Replace this with your file path\u001b[0m\u001b[1;33m\u001b[0m\u001b[0m\n\u001b[1;32m---> 20\u001b[1;33m \u001b[0menergy_framework\u001b[0m \u001b[1;33m=\u001b[0m \u001b[0mread_energy_distance_data\u001b[0m\u001b[1;33m(\u001b[0m\u001b[0mfile_path\u001b[0m\u001b[1;33m)\u001b[0m\u001b[1;33m\u001b[0m\u001b[0m\n\u001b[0m\u001b[0;32m     21\u001b[0m \u001b[1;33m\u001b[0m\u001b[0m\n\u001b[0;32m     22\u001b[0m \u001b[1;31m# Calculate energy value along a specific axis\u001b[0m\u001b[1;33m\u001b[0m\u001b[1;33m\u001b[0m\u001b[0m\n",
      "\u001b[1;32m~\\AppData\\Local\\Temp\\ipykernel_19052\\605142020.py\u001b[0m in \u001b[0;36mread_energy_distance_data\u001b[1;34m(file_path)\u001b[0m\n\u001b[0;32m      4\u001b[0m     \u001b[0mdata\u001b[0m \u001b[1;33m=\u001b[0m \u001b[1;33m[\u001b[0m\u001b[1;33m]\u001b[0m\u001b[1;33m\u001b[0m\u001b[0m\n\u001b[0;32m      5\u001b[0m \u001b[1;33m\u001b[0m\u001b[0m\n\u001b[1;32m----> 6\u001b[1;33m     \u001b[1;32mwith\u001b[0m \u001b[0mopen\u001b[0m\u001b[1;33m(\u001b[0m\u001b[0mfile_path\u001b[0m\u001b[1;33m,\u001b[0m \u001b[1;34m'r'\u001b[0m\u001b[1;33m)\u001b[0m \u001b[1;32mas\u001b[0m \u001b[0mfile\u001b[0m\u001b[1;33m:\u001b[0m\u001b[1;33m\u001b[0m\u001b[0m\n\u001b[0m\u001b[0;32m      7\u001b[0m         \u001b[1;32mfor\u001b[0m \u001b[0mline\u001b[0m \u001b[1;32min\u001b[0m \u001b[0mfile\u001b[0m\u001b[1;33m:\u001b[0m\u001b[1;33m\u001b[0m\u001b[0m\n\u001b[0;32m      8\u001b[0m             \u001b[0menergy\u001b[0m\u001b[1;33m,\u001b[0m \u001b[0mx\u001b[0m\u001b[1;33m,\u001b[0m \u001b[0my\u001b[0m\u001b[1;33m,\u001b[0m \u001b[0mz\u001b[0m \u001b[1;33m=\u001b[0m \u001b[0mmap\u001b[0m\u001b[1;33m(\u001b[0m\u001b[0mfloat\u001b[0m\u001b[1;33m,\u001b[0m \u001b[0mline\u001b[0m\u001b[1;33m.\u001b[0m\u001b[0mstrip\u001b[0m\u001b[1;33m(\u001b[0m\u001b[1;33m)\u001b[0m\u001b[1;33m.\u001b[0m\u001b[0msplit\u001b[0m\u001b[1;33m(\u001b[0m\u001b[1;33m)\u001b[0m\u001b[1;33m)\u001b[0m\u001b[1;33m\u001b[0m\u001b[0m\n",
      "\u001b[1;31mFileNotFoundError\u001b[0m: [Errno 2] No such file or directory: 'your_energy_distance_data_file.txt'"
     ]
    }
   ],
   "source": [
    "import numpy as np\n",
    "\n",
    "def read_energy_distance_data(file_path):\n",
    "    data = []\n",
    "\n",
    "    with open(file_path, 'r') as file:\n",
    "        for line in file:\n",
    "            energy, x, y, z = map(float, line.strip().split())\n",
    "            data.append((energy, np.array([x, y, z])))\n",
    "\n",
    "    return data\n",
    "\n",
    "def project_energy_along_axis(energy_framework, axis):\n",
    "    axis = np.array(axis) / np.linalg.norm(axis)\n",
    "    projected_energy = sum(energy * np.dot(direction, axis) for energy, direction in energy_framework)\n",
    "    return projected_energy\n",
    "\n",
    "# Read energy and distance data\n",
    "file_path = 'your_energy_distance_data_file.txt'  # Replace this with your file path\n",
    "energy_framework = read_energy_distance_data(file_path)\n",
    "\n",
    "# Calculate energy value along a specific axis\n",
    "axis = [1, 0, 0]  # Replace this with your desired axis\n",
    "projected_energy = project_energy_along_axis(energy_framework, axis)\n",
    "print(\"Projected energy along the axis:\", projected_energy)"
   ]
  },
  {
   "cell_type": "code",
   "execution_count": 45,
   "id": "2002255b-fe57-412d-82d7-2e09aa85e360",
   "metadata": {
    "tags": []
   },
   "outputs": [
    {
     "name": "stdout",
     "output_type": "stream",
     "text": [
      "Vectors between centers of gravity:\n",
      "Vector 1: [ 2.9710026   3.26490161 13.8457846 ]\n"
     ]
    },
    {
     "name": "stderr",
     "output_type": "stream",
     "text": [
      "C:\\Users\\s0928\\anaconda3\\envs\\wallach2\\lib\\site-packages\\ase\\io\\cif.py:404: UserWarning: crystal system 'monoclinic' is not interpreted for space group Spacegroup(14, setting=1). This may result in wrong setting!\n",
      "  setting_name, spacegroup))\n"
     ]
    }
   ],
   "source": [
    "import numpy as np\n",
    "from ase import Atoms\n",
    "from ase.io import read\n",
    "from ase.build import make_supercell\n",
    "from ase.geometry import find_mic\n",
    "\n",
    "def read_cif_file(file_path):\n",
    "    return read(file_path)\n",
    "\n",
    "def center_of_gravity(molecule):\n",
    "    weighted_positions = molecule.get_masses()[:, None] * molecule.get_positions()\n",
    "    total_mass = molecule.get_masses().sum()\n",
    "    return weighted_positions.sum(axis=0) / total_mass\n",
    "\n",
    "def get_surrounding_molecules(crystal_structure, molecule_indices, central_molecule_indices, supercell_matrix):\n",
    "    supercell = make_supercell(crystal_structure, supercell_matrix)\n",
    "    \n",
    "    central_molecule = Atoms([supercell[i] for i in central_molecule_indices])\n",
    "    surrounding_molecules = [Atoms([supercell[j] for j, atom in enumerate(supercell) if j not in central_molecule_indices])]\n",
    "    \n",
    "    return central_molecule, surrounding_molecules\n",
    "\n",
    "def calculate_vectors_between_centers_of_gravity(central_molecule, surrounding_molecules):\n",
    "    vectors = []\n",
    "    central_molecule_cog = center_of_gravity(central_molecule)\n",
    "\n",
    "    for surrounding_molecule in surrounding_molecules:\n",
    "        surrounding_molecule_cog = center_of_gravity(surrounding_molecule)\n",
    "        vector = find_mic(surrounding_molecule_cog - central_molecule_cog, central_molecule.cell)[0]\n",
    "        vectors.append(vector)\n",
    "\n",
    "    return vectors\n",
    "\n",
    "# Read CIF file\n",
    "file_path = './SA/Rac-2-naph_20degree.major.cif'  # Replace this with your CIF file path\n",
    "crystal_structure = read_cif_file(file_path)\n",
    "\n",
    "mol1 = []\n",
    "mol2 = []\n",
    "mol3 = []\n",
    "mol4 = []\n",
    "for i in range(len(crystal_structure.get_atomic_numbers())):\n",
    "    if i%4==0:\n",
    "        mol1.append(i)\n",
    "    elif i%4==1:\n",
    "        mol2.append(i)\n",
    "    elif i%4==2:\n",
    "        mol3.append(i)\n",
    "    elif i%4==3:\n",
    "        mol4.append(i)\n",
    "\n",
    "# Define molecule indices in the unit cell\n",
    "molecule_indices = [\n",
    "    mol1,\n",
    "    mol2,\n",
    "    mol3,\n",
    "    mol4,\n",
    "]\n",
    "\n",
    "# Select a molecule and generate surrounding molecules\n",
    "central_molecule_indices = mol1  # Replace this with the indices of the central molecule you want to select\n",
    "supercell_matrix = np.array([[2, 0, 0], [0, 2, 0], [0, 0, 2]])  # Modify this to control the size of the supercell\n",
    "central_molecule, surrounding_molecules = get_surrounding_molecules(crystal_structure, molecule_indices, central_molecule_indices, supercell_matrix)\n",
    "\n",
    "# Calculate the center of gravity of each molecule\n",
    "central_molecule_cog = center_of_gravity(central_molecule)\n",
    "surrounding_molecules_cog = [center_of_gravity(molecule) for molecule in surrounding_molecules]\n",
    "\n",
    "# Calculate vectors between the center of gravity of the central molecule and surrounding molecules\n",
    "vectors = calculate_vectors_between_centers_of_gravity(central_molecule, surrounding_molecules)\n",
    "print(\"Vectors between centers of gravity:\")\n",
    "for i, vector in enumerate(vectors):\n",
    "    print(f\"Vector {i + 1}: {vector}\")"
   ]
  },
  {
   "cell_type": "code",
   "execution_count": 25,
   "id": "c840b582-237e-4c57-8766-5152dc81e101",
   "metadata": {
    "tags": []
   },
   "outputs": [],
   "source": [
    "mol1 = []\n",
    "for i in range(len(crystal_structure.get_atomic_numbers())):\n",
    "    if i%4==0:\n",
    "        mol1.append(i)"
   ]
  },
  {
   "cell_type": "code",
   "execution_count": 35,
   "id": "77c11fe4-36e1-403f-8d65-c0e67f9b629c",
   "metadata": {
    "tags": []
   },
   "outputs": [],
   "source": [
    "supercell = make_supercell(crystal_structure, supercell_matrix)"
   ]
  },
  {
   "cell_type": "code",
   "execution_count": 37,
   "id": "1d42da64-14bc-409a-b38f-54aca5ff3c5b",
   "metadata": {
    "tags": []
   },
   "outputs": [],
   "source": [
    "central_molecule = Atoms([supercell[i] for i in central_molecule_indices])"
   ]
  },
  {
   "cell_type": "code",
   "execution_count": 46,
   "id": "30b5e8ac-4dc0-4a4b-a201-2f7329065b89",
   "metadata": {
    "tags": []
   },
   "outputs": [
    {
     "data": {
      "text/plain": [
       "[array([ 2.9710026 ,  3.26490161, 13.8457846 ])]"
      ]
     },
     "execution_count": 46,
     "metadata": {},
     "output_type": "execute_result"
    }
   ],
   "source": [
    "vectors"
   ]
  },
  {
   "cell_type": "code",
   "execution_count": 50,
   "id": "4034d822-a1f5-4bf7-a504-73dc42c85348",
   "metadata": {
    "tags": []
   },
   "outputs": [],
   "source": [
    "from ase.data import covalent_radii\n",
    "from scipy.spatial.distance import pdist, squareform\n",
    "import networkx as nx\n",
    "\n",
    "def covalent_radii_sum(atom1, atom2):\n",
    "    return covalent_radii[atom1.number] + covalent_radii[atom2.number]"
   ]
  },
  {
   "cell_type": "code",
   "execution_count": 51,
   "id": "2dee46ab-801e-49bb-885f-c1c3298f9607",
   "metadata": {
    "tags": []
   },
   "outputs": [],
   "source": [
    "def create_connectivity_graph(atoms, tolerance=1.2):\n",
    "    connectivity_graph = nx.Graph()\n",
    "    n_atoms = len(atoms)\n",
    "    connectivity_graph.add_nodes_from(range(n_atoms))\n",
    "\n",
    "    distance_matrix = squareform(pdist(atoms.positions))\n",
    "\n",
    "    for i in range(n_atoms):\n",
    "        for j in range(i + 1, n_atoms):\n",
    "            distance = distance_matrix[i, j]\n",
    "            bond_cutoff = covalent_radii_sum(atoms[i], atoms[j]) * tolerance\n",
    "            if distance <= bond_cutoff:\n",
    "                connectivity_graph.add_edge(i, j)\n",
    "\n",
    "    return connectivity_graph"
   ]
  },
  {
   "cell_type": "code",
   "execution_count": 52,
   "id": "1fc34808-6f42-4db7-adbd-a599e756e1ac",
   "metadata": {
    "tags": []
   },
   "outputs": [],
   "source": [
    "filename = './SA/Rac-2-naph_20degree.major.cif'\n",
    "structure = read(filename)\n",
    "connectivity_graph = create_connectivity_graph(structure)"
   ]
  },
  {
   "cell_type": "code",
   "execution_count": 53,
   "id": "67d8afed-5913-416a-8078-178c484ccf5f",
   "metadata": {
    "tags": []
   },
   "outputs": [],
   "source": [
    "molecules = list(nx.connected_components(connectivity_graph))"
   ]
  },
  {
   "cell_type": "markdown",
   "id": "c4a5d543-3833-411c-9f44-1ba8f1b4a2d5",
   "metadata": {
    "tags": []
   },
   "source": [
    "# Get vectors and calculate angles between specific directions\n",
    "**Instruction**  \n",
    "The aim of this notebook is to get vectors from the center molecule to surrounding molecules and to calculate angles between specific directions.  \n",
    "The execution of the following code requires atomic coordinates of molecular clucster and cell vector information (they are stored `.csv` and `.cif` in the below case).  \n",
    "\n",
    "**Contents**  \n",
    "1. Preparation of calculation\n",
    "1. Calculate the vector of selected center molecule\n",
    "1. Calculate vectors, distancec, and angles"
   ]
  },
  {
   "cell_type": "markdown",
   "id": "ae9d000a-3e28-43a6-9c08-990262269fa2",
   "metadata": {
    "tags": []
   },
   "source": [
    "## 1. Preparation of calculation"
   ]
  },
  {
   "cell_type": "code",
   "execution_count": 77,
   "id": "177dc994-7aeb-44df-bf2f-00f8a890c751",
   "metadata": {
    "tags": []
   },
   "outputs": [],
   "source": [
    "import math\n",
    "\n",
    "def dot_product(a, b):\n",
    "    return sum([a[i] * b[i] for i in range(len(a))])\n",
    "\n",
    "def norm(a):\n",
    "    return math.sqrt(sum([a[i] * a[i] for i in range(len(a))]))\n",
    "\n",
    "def angle_between_vectors(a, b):\n",
    "    cosine_angle = dot_product(a, b) / (norm(a) * norm(b))\n",
    "    cosine_angle = round(cosine_angle, ndigits=5)\n",
    "    angle = math.acos(cosine_angle) * 180 / math.pi\n",
    "    return angle\n",
    "\n",
    "def euclidean_distance(a, b):\n",
    "    return math.sqrt(sum([(a[i] - b[i])**2 for i in range(len(a))]))\n",
    "\n",
    "def perpendicular_vector(v1, v2):\n",
    "    return np.cross(v1, v2)"
   ]
  },
  {
   "cell_type": "code",
   "execution_count": 208,
   "id": "3cb85524-fdb6-44fb-93b1-2e7df9414842",
   "metadata": {
    "tags": []
   },
   "outputs": [
    {
     "name": "stderr",
     "output_type": "stream",
     "text": [
      "C:\\Users\\s0928\\anaconda3\\envs\\wallach2\\lib\\site-packages\\ase\\io\\cif.py:404: UserWarning: crystal system 'triclinic' is not interpreted for space group Spacegroup(1, setting=1). This may result in wrong setting!\n",
      "  setting_name, spacegroup))\n"
     ]
    }
   ],
   "source": [
    "import pandas as pd\n",
    "import numpy as np\n",
    "from ase import io\n",
    "# name = 'S-1_-80'\n",
    "df = pd.read_csv(f'./SA/coordinate_{name}_b.csv') # Change path for atomic coordinates of molecular cluster\n",
    "cryst = io.read(f'./SA/Structure_{name}_major.cif') # Change path for cif file"
   ]
  },
  {
   "cell_type": "code",
   "execution_count": 209,
   "id": "c640c841-abcd-4fc6-800d-37432b5403f1",
   "metadata": {
    "tags": []
   },
   "outputs": [
    {
     "data": {
      "text/html": [
       "<div>\n",
       "<style scoped>\n",
       "    .dataframe tbody tr th:only-of-type {\n",
       "        vertical-align: middle;\n",
       "    }\n",
       "\n",
       "    .dataframe tbody tr th {\n",
       "        vertical-align: top;\n",
       "    }\n",
       "\n",
       "    .dataframe thead th {\n",
       "        text-align: right;\n",
       "    }\n",
       "</style>\n",
       "<table border=\"1\" class=\"dataframe\">\n",
       "  <thead>\n",
       "    <tr style=\"text-align: right;\">\n",
       "      <th></th>\n",
       "      <th>--------------------------------------------------------------------------------</th>\n",
       "      <th>Unnamed: 1</th>\n",
       "      <th>Unnamed: 2</th>\n",
       "      <th>Unnamed: 3</th>\n",
       "      <th>Unnamed: 4</th>\n",
       "      <th>Unnamed: 5</th>\n",
       "    </tr>\n",
       "  </thead>\n",
       "  <tbody>\n",
       "    <tr>\n",
       "      <th>1071</th>\n",
       "      <td>H25B</td>\n",
       "      <td>H</td>\n",
       "      <td>-0.4438</td>\n",
       "      <td>1.7322</td>\n",
       "      <td>2.2013</td>\n",
       "      <td>1</td>\n",
       "    </tr>\n",
       "    <tr>\n",
       "      <th>1072</th>\n",
       "      <td>C25A</td>\n",
       "      <td>C</td>\n",
       "      <td>-0.9446</td>\n",
       "      <td>1.8862</td>\n",
       "      <td>1.2534</td>\n",
       "      <td>1</td>\n",
       "    </tr>\n",
       "  </tbody>\n",
       "</table>\n",
       "</div>"
      ],
      "text/plain": [
       "     --------------------------------------------------------------------------------  \\\n",
       "1071                                               H25B                                 \n",
       "1072                                               C25A                                 \n",
       "\n",
       "     Unnamed: 1 Unnamed: 2 Unnamed: 3 Unnamed: 4 Unnamed: 5  \n",
       "1071          H    -0.4438     1.7322     2.2013          1  \n",
       "1072          C    -0.9446     1.8862     1.2534          1  "
      ]
     },
     "execution_count": 209,
     "metadata": {},
     "output_type": "execute_result"
    }
   ],
   "source": [
    "df_rev = df.iloc[1071:, :] # 1071, 946 # Please input the starting index of the molecular clucter\n",
    "df_rev.head(2)"
   ]
  },
  {
   "cell_type": "markdown",
   "id": "733c2fd6-4dd2-4dc0-ab1b-438258df36de",
   "metadata": {
    "tags": []
   },
   "source": [
    "## 2. Calculate the vector of selected center molecule"
   ]
  },
  {
   "cell_type": "code",
   "execution_count": 210,
   "id": "20400d29-d46b-49c7-aa30-aef525621672",
   "metadata": {
    "tags": []
   },
   "outputs": [
    {
     "data": {
      "text/plain": [
       "[5.6023, 6.8549, 2.4835]"
      ]
     },
     "execution_count": 210,
     "metadata": {},
     "output_type": "execute_result"
    }
   ],
   "source": [
    "n_atoms_per_mol = 62\n",
    "n_mols = 17\n",
    "centers_list = []\n",
    "\n",
    "for i in range(n_mols):\n",
    "    if i==0:\n",
    "        coordinates = df_rev.iloc[:n_atoms_per_mol, 1:-1]\n",
    "    else:\n",
    "        coordinates = df_rev.iloc[n_atoms_per_mol*i+2*i:n_atoms_per_mol*(i+1)+2*i, 1:-1]\n",
    "    excluded_category = 'P'\n",
    "    coordinates = coordinates[coordinates['Unnamed: 1'] != excluded_category]\n",
    "    center = [round(coordinates.iloc[:,1].astype(float).mean(),4),\n",
    "              round(coordinates.iloc[:,2].astype(float).mean(),4),\n",
    "              round(coordinates.iloc[:,3].astype(float).mean(),4)]\n",
    "    centers_list.append(center)\n",
    "\n",
    "sel_mol = df.iloc[4:4+n_atoms_per_mol, 1:-1]\n",
    "sel_mol = sel_mol[sel_mol['Unnamed: 1'] != excluded_category]\n",
    "sel_mol_center = [round(sel_mol.iloc[:,1].astype(float).mean(),4),\n",
    "                  round(sel_mol.iloc[:,2].astype(float).mean(),4),\n",
    "                  round(sel_mol.iloc[:,3].astype(float).mean(),4)]\n",
    "sel_mol_center"
   ]
  },
  {
   "cell_type": "markdown",
   "id": "eded41f9-d259-4ca8-a006-752327f132ad",
   "metadata": {
    "tags": []
   },
   "source": [
    "## 3. Calculate vectors, distancec, and angles"
   ]
  },
  {
   "cell_type": "code",
   "execution_count": 211,
   "id": "4efad972-309b-480b-84a9-d4a7a3ba17b3",
   "metadata": {
    "tags": []
   },
   "outputs": [
    {
     "name": "stderr",
     "output_type": "stream",
     "text": [
      "C:\\Users\\s0928\\anaconda3\\envs\\wallach2\\lib\\site-packages\\ipykernel_launcher.py:10: RuntimeWarning: invalid value encountered in double_scalars\n",
      "  # Remove the CWD from sys.path while we load stuff.\n"
     ]
    }
   ],
   "source": [
    "distances = [round(euclidean_distance(sel_mol_center, sublist), 2) for sublist in centers_list]\n",
    "vec_mols_diff = [list(np.array(sel_mol_center)-np.array(sublist)) for sublist in centers_list]\n",
    "\n",
    "vec_along_a = cryst.cell[0]\n",
    "vec_along_b = cryst.cell[1]\n",
    "vec_along_c = cryst.cell[2]\n",
    "vec_perp_100 = perpendicular_vector(vec_along_b, vec_along_c)\n",
    "vec_perp_010 = perpendicular_vector(vec_along_a, vec_along_c)\n",
    "vec_perp_001 = perpendicular_vector(vec_along_a, vec_along_b)\n",
    "\n",
    "angles_along_a = [round(angle_between_vectors(vec_along_a, sublist),2) for sublist in vec_mols_diff]\n",
    "angles_along_b = [round(angle_between_vectors(vec_along_b, sublist),2) for sublist in vec_mols_diff]\n",
    "angles_along_c = [round(angle_between_vectors(vec_along_c, sublist),2) for sublist in vec_mols_diff]\n",
    "angles_perp_100 = [round(angle_between_vectors(vec_perp_100, sublist),2) for sublist in vec_mols_diff]\n",
    "angles_perp_010 = [round(angle_between_vectors(vec_perp_010, sublist),2) for sublist in vec_mols_diff]\n",
    "angles_perp_001 = [round(angle_between_vectors(vec_perp_001, sublist),2) for sublist in vec_mols_diff]"
   ]
  },
  {
   "cell_type": "code",
   "execution_count": 212,
   "id": "71b26c84-6774-4380-adec-db93bc0fb9c7",
   "metadata": {
    "tags": []
   },
   "outputs": [
    {
     "data": {
      "text/html": [
       "<div>\n",
       "<style scoped>\n",
       "    .dataframe tbody tr th:only-of-type {\n",
       "        vertical-align: middle;\n",
       "    }\n",
       "\n",
       "    .dataframe tbody tr th {\n",
       "        vertical-align: top;\n",
       "    }\n",
       "\n",
       "    .dataframe thead th {\n",
       "        text-align: right;\n",
       "    }\n",
       "</style>\n",
       "<table border=\"1\" class=\"dataframe\">\n",
       "  <thead>\n",
       "    <tr style=\"text-align: right;\">\n",
       "      <th></th>\n",
       "      <th>vec_x</th>\n",
       "      <th>vec_y</th>\n",
       "      <th>vec_z</th>\n",
       "      <th>distance_from_center</th>\n",
       "      <th>angle_along_a</th>\n",
       "      <th>angle_along_b</th>\n",
       "      <th>angle_along_c</th>\n",
       "      <th>angle_perp_100</th>\n",
       "      <th>angle_perp_010</th>\n",
       "      <th>angle_perp_001</th>\n",
       "    </tr>\n",
       "  </thead>\n",
       "  <tbody>\n",
       "    <tr>\n",
       "      <th>0</th>\n",
       "      <td>6.4935</td>\n",
       "      <td>9.9160</td>\n",
       "      <td>0.0000</td>\n",
       "      <td>11.85</td>\n",
       "      <td>56.78</td>\n",
       "      <td>31.27</td>\n",
       "      <td>83.10</td>\n",
       "      <td>58.80</td>\n",
       "      <td>146.34</td>\n",
       "      <td>90.00</td>\n",
       "    </tr>\n",
       "    <tr>\n",
       "      <th>1</th>\n",
       "      <td>6.1564</td>\n",
       "      <td>0.0000</td>\n",
       "      <td>0.0000</td>\n",
       "      <td>6.16</td>\n",
       "      <td>0.00</td>\n",
       "      <td>88.05</td>\n",
       "      <td>86.24</td>\n",
       "      <td>4.08</td>\n",
       "      <td>90.00</td>\n",
       "      <td>90.00</td>\n",
       "    </tr>\n",
       "    <tr>\n",
       "      <th>2</th>\n",
       "      <td>5.0814</td>\n",
       "      <td>4.7526</td>\n",
       "      <td>-8.4603</td>\n",
       "      <td>10.95</td>\n",
       "      <td>62.36</td>\n",
       "      <td>63.30</td>\n",
       "      <td>133.84</td>\n",
       "      <td>60.25</td>\n",
       "      <td>120.64</td>\n",
       "      <td>140.57</td>\n",
       "    </tr>\n",
       "    <tr>\n",
       "      <th>3</th>\n",
       "      <td>4.7443</td>\n",
       "      <td>-5.1634</td>\n",
       "      <td>-8.4603</td>\n",
       "      <td>10.99</td>\n",
       "      <td>64.42</td>\n",
       "      <td>117.06</td>\n",
       "      <td>141.57</td>\n",
       "      <td>60.35</td>\n",
       "      <td>67.06</td>\n",
       "      <td>140.35</td>\n",
       "    </tr>\n",
       "    <tr>\n",
       "      <th>4</th>\n",
       "      <td>0.0000</td>\n",
       "      <td>0.0000</td>\n",
       "      <td>0.0000</td>\n",
       "      <td>0.00</td>\n",
       "      <td>NaN</td>\n",
       "      <td>NaN</td>\n",
       "      <td>NaN</td>\n",
       "      <td>NaN</td>\n",
       "      <td>NaN</td>\n",
       "      <td>NaN</td>\n",
       "    </tr>\n",
       "    <tr>\n",
       "      <th>5</th>\n",
       "      <td>-1.0750</td>\n",
       "      <td>4.7526</td>\n",
       "      <td>-8.4603</td>\n",
       "      <td>9.76</td>\n",
       "      <td>96.32</td>\n",
       "      <td>61.13</td>\n",
       "      <td>144.94</td>\n",
       "      <td>94.14</td>\n",
       "      <td>124.87</td>\n",
       "      <td>150.06</td>\n",
       "    </tr>\n",
       "    <tr>\n",
       "      <th>6</th>\n",
       "      <td>-0.1288</td>\n",
       "      <td>-3.1934</td>\n",
       "      <td>10.9720</td>\n",
       "      <td>11.43</td>\n",
       "      <td>90.65</td>\n",
       "      <td>106.24</td>\n",
       "      <td>22.44</td>\n",
       "      <td>93.54</td>\n",
       "      <td>67.99</td>\n",
       "      <td>16.24</td>\n",
       "    </tr>\n",
       "    <tr>\n",
       "      <th>7</th>\n",
       "      <td>0.3371</td>\n",
       "      <td>9.9160</td>\n",
       "      <td>0.0000</td>\n",
       "      <td>9.92</td>\n",
       "      <td>88.05</td>\n",
       "      <td>0.00</td>\n",
       "      <td>84.10</td>\n",
       "      <td>90.00</td>\n",
       "      <td>173.90</td>\n",
       "      <td>90.00</td>\n",
       "    </tr>\n",
       "    <tr>\n",
       "      <th>8</th>\n",
       "      <td>-1.4121</td>\n",
       "      <td>-5.1634</td>\n",
       "      <td>-8.4603</td>\n",
       "      <td>10.01</td>\n",
       "      <td>98.11</td>\n",
       "      <td>121.35</td>\n",
       "      <td>154.17</td>\n",
       "      <td>94.04</td>\n",
       "      <td>64.67</td>\n",
       "      <td>147.68</td>\n",
       "    </tr>\n",
       "    <tr>\n",
       "      <th>9</th>\n",
       "      <td>0.2083</td>\n",
       "      <td>6.7226</td>\n",
       "      <td>10.9720</td>\n",
       "      <td>12.87</td>\n",
       "      <td>89.07</td>\n",
       "      <td>58.49</td>\n",
       "      <td>25.84</td>\n",
       "      <td>93.14</td>\n",
       "      <td>115.70</td>\n",
       "      <td>31.51</td>\n",
       "    </tr>\n",
       "    <tr>\n",
       "      <th>10</th>\n",
       "      <td>-0.3371</td>\n",
       "      <td>-9.9160</td>\n",
       "      <td>0.0000</td>\n",
       "      <td>9.92</td>\n",
       "      <td>91.95</td>\n",
       "      <td>180.00</td>\n",
       "      <td>95.90</td>\n",
       "      <td>90.00</td>\n",
       "      <td>6.10</td>\n",
       "      <td>90.00</td>\n",
       "    </tr>\n",
       "    <tr>\n",
       "      <th>11</th>\n",
       "      <td>5.8193</td>\n",
       "      <td>-9.9160</td>\n",
       "      <td>0.0000</td>\n",
       "      <td>11.50</td>\n",
       "      <td>59.59</td>\n",
       "      <td>147.65</td>\n",
       "      <td>93.07</td>\n",
       "      <td>57.72</td>\n",
       "      <td>30.90</td>\n",
       "      <td>90.00</td>\n",
       "    </tr>\n",
       "    <tr>\n",
       "      <th>12</th>\n",
       "      <td>-5.8193</td>\n",
       "      <td>9.9160</td>\n",
       "      <td>0.0000</td>\n",
       "      <td>11.50</td>\n",
       "      <td>120.41</td>\n",
       "      <td>32.35</td>\n",
       "      <td>86.93</td>\n",
       "      <td>122.28</td>\n",
       "      <td>149.10</td>\n",
       "      <td>90.00</td>\n",
       "    </tr>\n",
       "    <tr>\n",
       "      <th>13</th>\n",
       "      <td>-6.1564</td>\n",
       "      <td>0.0000</td>\n",
       "      <td>0.0000</td>\n",
       "      <td>6.16</td>\n",
       "      <td>180.00</td>\n",
       "      <td>91.95</td>\n",
       "      <td>93.76</td>\n",
       "      <td>175.92</td>\n",
       "      <td>90.00</td>\n",
       "      <td>90.00</td>\n",
       "    </tr>\n",
       "    <tr>\n",
       "      <th>14</th>\n",
       "      <td>-5.9481</td>\n",
       "      <td>6.7226</td>\n",
       "      <td>10.9720</td>\n",
       "      <td>14.18</td>\n",
       "      <td>114.81</td>\n",
       "      <td>62.63</td>\n",
       "      <td>37.95</td>\n",
       "      <td>118.88</td>\n",
       "      <td>113.19</td>\n",
       "      <td>39.29</td>\n",
       "    </tr>\n",
       "    <tr>\n",
       "      <th>15</th>\n",
       "      <td>-6.2852</td>\n",
       "      <td>-3.1934</td>\n",
       "      <td>10.9720</td>\n",
       "      <td>13.04</td>\n",
       "      <td>118.81</td>\n",
       "      <td>105.13</td>\n",
       "      <td>38.83</td>\n",
       "      <td>121.66</td>\n",
       "      <td>70.82</td>\n",
       "      <td>32.72</td>\n",
       "    </tr>\n",
       "    <tr>\n",
       "      <th>16</th>\n",
       "      <td>-6.4935</td>\n",
       "      <td>-9.9160</td>\n",
       "      <td>0.0000</td>\n",
       "      <td>11.85</td>\n",
       "      <td>123.22</td>\n",
       "      <td>148.73</td>\n",
       "      <td>96.90</td>\n",
       "      <td>121.20</td>\n",
       "      <td>33.66</td>\n",
       "      <td>90.00</td>\n",
       "    </tr>\n",
       "  </tbody>\n",
       "</table>\n",
       "</div>"
      ],
      "text/plain": [
       "     vec_x   vec_y    vec_z  distance_from_center  angle_along_a  \\\n",
       "0   6.4935  9.9160   0.0000                 11.85          56.78   \n",
       "1   6.1564  0.0000   0.0000                  6.16           0.00   \n",
       "2   5.0814  4.7526  -8.4603                 10.95          62.36   \n",
       "3   4.7443 -5.1634  -8.4603                 10.99          64.42   \n",
       "4   0.0000  0.0000   0.0000                  0.00            NaN   \n",
       "5  -1.0750  4.7526  -8.4603                  9.76          96.32   \n",
       "6  -0.1288 -3.1934  10.9720                 11.43          90.65   \n",
       "7   0.3371  9.9160   0.0000                  9.92          88.05   \n",
       "8  -1.4121 -5.1634  -8.4603                 10.01          98.11   \n",
       "9   0.2083  6.7226  10.9720                 12.87          89.07   \n",
       "10 -0.3371 -9.9160   0.0000                  9.92          91.95   \n",
       "11  5.8193 -9.9160   0.0000                 11.50          59.59   \n",
       "12 -5.8193  9.9160   0.0000                 11.50         120.41   \n",
       "13 -6.1564  0.0000   0.0000                  6.16         180.00   \n",
       "14 -5.9481  6.7226  10.9720                 14.18         114.81   \n",
       "15 -6.2852 -3.1934  10.9720                 13.04         118.81   \n",
       "16 -6.4935 -9.9160   0.0000                 11.85         123.22   \n",
       "\n",
       "    angle_along_b  angle_along_c  angle_perp_100  angle_perp_010  \\\n",
       "0           31.27          83.10           58.80          146.34   \n",
       "1           88.05          86.24            4.08           90.00   \n",
       "2           63.30         133.84           60.25          120.64   \n",
       "3          117.06         141.57           60.35           67.06   \n",
       "4             NaN            NaN             NaN             NaN   \n",
       "5           61.13         144.94           94.14          124.87   \n",
       "6          106.24          22.44           93.54           67.99   \n",
       "7            0.00          84.10           90.00          173.90   \n",
       "8          121.35         154.17           94.04           64.67   \n",
       "9           58.49          25.84           93.14          115.70   \n",
       "10         180.00          95.90           90.00            6.10   \n",
       "11         147.65          93.07           57.72           30.90   \n",
       "12          32.35          86.93          122.28          149.10   \n",
       "13          91.95          93.76          175.92           90.00   \n",
       "14          62.63          37.95          118.88          113.19   \n",
       "15         105.13          38.83          121.66           70.82   \n",
       "16         148.73          96.90          121.20           33.66   \n",
       "\n",
       "    angle_perp_001  \n",
       "0            90.00  \n",
       "1            90.00  \n",
       "2           140.57  \n",
       "3           140.35  \n",
       "4              NaN  \n",
       "5           150.06  \n",
       "6            16.24  \n",
       "7            90.00  \n",
       "8           147.68  \n",
       "9            31.51  \n",
       "10           90.00  \n",
       "11           90.00  \n",
       "12           90.00  \n",
       "13           90.00  \n",
       "14           39.29  \n",
       "15           32.72  \n",
       "16           90.00  "
      ]
     },
     "execution_count": 212,
     "metadata": {},
     "output_type": "execute_result"
    }
   ],
   "source": [
    "summary = pd.DataFrame({\n",
    "    'vec_x': [sublist[0] for sublist in vec_mols_diff],\n",
    "    'vec_y': [sublist[1] for sublist in vec_mols_diff],\n",
    "    'vec_z': [sublist[2] for sublist in vec_mols_diff],\n",
    "    'distance_from_center': distances,\n",
    "    'angle_along_a': angles_along_a,\n",
    "    'angle_along_b': angles_along_b,\n",
    "    'angle_along_c': angles_along_c,\n",
    "    'angle_perp_100': angles_perp_100,\n",
    "    'angle_perp_010': angles_perp_010,\n",
    "    'angle_perp_001': angles_perp_001,\n",
    "})\n",
    "summary"
   ]
  },
  {
   "cell_type": "code",
   "execution_count": null,
   "id": "2fb71baa-82d7-47db-8ee7-8fc3f9b4a294",
   "metadata": {},
   "outputs": [],
   "source": []
  }
 ],
 "metadata": {
  "kernelspec": {
   "display_name": "Python 3 (ipykernel)",
   "language": "python",
   "name": "python3"
  },
  "language_info": {
   "codemirror_mode": {
    "name": "ipython",
    "version": 3
   },
   "file_extension": ".py",
   "mimetype": "text/x-python",
   "name": "python",
   "nbconvert_exporter": "python",
   "pygments_lexer": "ipython3",
   "version": "3.7.0"
  }
 },
 "nbformat": 4,
 "nbformat_minor": 5
}
